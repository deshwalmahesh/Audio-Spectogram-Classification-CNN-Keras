{
 "cells": [
  {
   "cell_type": "code",
   "execution_count": 31,
   "metadata": {},
   "outputs": [],
   "source": [
    "import numpy as np\n",
    "import pandas as pd\n",
    "import matplotlib.pyplot as plt\n",
    "import seaborn as sns\n",
    "from skimage.transform import resize\n",
    "from cv2 import imread\n",
    "import os\n",
    "from tensorflow.random import set_random_seed\n",
    "from keras.layers import Input,Conv2D,MaxPooling2D,ReLU,LeakyReLU,Dropout,BatchNormalization,Dense,Flatten\n",
    "from keras.models import Model\n",
    "from keras.utils import plot_model,print_summary\n",
    "from keras.preprocessing.image import ImageDataGenerator\n",
    "from keras.callbacks import EarlyStopping,ModelCheckpoint\n",
    "from scipy.stats import ttest_ind"
   ]
  },
  {
   "cell_type": "code",
   "execution_count": 2,
   "metadata": {},
   "outputs": [],
   "source": [
    "SEED = 13\n",
    "BATCH_SIZE = 16\n",
    "\n",
    "np.random.seed(SEED)\n",
    "set_random_seed(SEED)"
   ]
  },
  {
   "cell_type": "markdown",
   "metadata": {},
   "source": [
    "# Helper "
   ]
  },
  {
   "cell_type": "code",
   "execution_count": 29,
   "metadata": {},
   "outputs": [],
   "source": [
    "def plot_graphs(history1,hist2,label):\n",
    "    plt.plot(history1.history['acc'], label='Base Acc',color='m')\n",
    "    plt.plot(history1.history['val_acc'], label='Base Val Acc', color='m', ls='dotted')\n",
    "    plt.plot(hist2.history['acc'], label=label+' Acc',color='teal')\n",
    "    plt.plot(hist2.history['val_acc'], label=label+' Val Acc', color='teal', ls='dotted')\n",
    "    plt.grid()\n",
    "    plt.legend()\n",
    "    plt.show()"
   ]
  },
  {
   "cell_type": "code",
   "execution_count": 44,
   "metadata": {},
   "outputs": [],
   "source": [
    "def t_test(history1,hist,label):\n",
    "    x = ttest_ind(history1.history['acc'],hist.history['acc'])\n",
    "    print(f'''There is a difference of {x.statistic} between the base and {label} model mean accuracy with a p-value of {x.pvalue}''')\n",
    "    if x.pvalue>0.05:\n",
    "        print('It means there is no significance difference because of the p-value')\n",
    "    else:\n",
    "        print('There is a significiance difference')"
   ]
  },
  {
   "cell_type": "markdown",
   "metadata": {},
   "source": [
    "# Input"
   ]
  },
  {
   "cell_type": "code",
   "execution_count": 3,
   "metadata": {},
   "outputs": [
    {
     "data": {
      "text/html": [
       "<div>\n",
       "<style scoped>\n",
       "    .dataframe tbody tr th:only-of-type {\n",
       "        vertical-align: middle;\n",
       "    }\n",
       "\n",
       "    .dataframe tbody tr th {\n",
       "        vertical-align: top;\n",
       "    }\n",
       "\n",
       "    .dataframe thead th {\n",
       "        text-align: right;\n",
       "    }\n",
       "</style>\n",
       "<table border=\"1\" class=\"dataframe\">\n",
       "  <thead>\n",
       "    <tr style=\"text-align: right;\">\n",
       "      <th></th>\n",
       "      <th>image name</th>\n",
       "      <th>label</th>\n",
       "      <th>user</th>\n",
       "    </tr>\n",
       "  </thead>\n",
       "  <tbody>\n",
       "    <tr>\n",
       "      <th>5</th>\n",
       "      <td>4_nicolas_33.png</td>\n",
       "      <td>4</td>\n",
       "      <td>nicolas</td>\n",
       "    </tr>\n",
       "    <tr>\n",
       "      <th>754</th>\n",
       "      <td>5_theo_44.png</td>\n",
       "      <td>5</td>\n",
       "      <td>theo</td>\n",
       "    </tr>\n",
       "    <tr>\n",
       "      <th>749</th>\n",
       "      <td>1_jackson_24.png</td>\n",
       "      <td>1</td>\n",
       "      <td>jackson</td>\n",
       "    </tr>\n",
       "    <tr>\n",
       "      <th>539</th>\n",
       "      <td>4_nicolas_17.png</td>\n",
       "      <td>4</td>\n",
       "      <td>nicolas</td>\n",
       "    </tr>\n",
       "    <tr>\n",
       "      <th>566</th>\n",
       "      <td>6_jackson_39.png</td>\n",
       "      <td>6</td>\n",
       "      <td>jackson</td>\n",
       "    </tr>\n",
       "  </tbody>\n",
       "</table>\n",
       "</div>"
      ],
      "text/plain": [
       "           image name label     user\n",
       "5    4_nicolas_33.png     4  nicolas\n",
       "754     5_theo_44.png     5     theo\n",
       "749  1_jackson_24.png     1  jackson\n",
       "539  4_nicolas_17.png     4  nicolas\n",
       "566  6_jackson_39.png     6  jackson"
      ]
     },
     "execution_count": 3,
     "metadata": {},
     "output_type": "execute_result"
    }
   ],
   "source": [
    "DATA_PATH = 'spectrograms/'\n",
    "files = []\n",
    "for _,_,filename in os.walk(DATA_PATH):\n",
    "    files.extend(filename)\n",
    "    \n",
    "label = []\n",
    "user = []\n",
    "for file in files:\n",
    "    label.append((file.split('_')[0]))\n",
    "    user.append(file.split('_')[1])\n",
    "    \n",
    "df = pd.DataFrame()\n",
    "df['image name'] = files\n",
    "df['label'] = label\n",
    "df['user'] = user\n",
    "df = df.sample(frac=1.0)\n",
    "df.head()"
   ]
  },
  {
   "cell_type": "code",
   "execution_count": 4,
   "metadata": {},
   "outputs": [
    {
     "data": {
      "text/plain": [
       "<matplotlib.image.AxesImage at 0x7fed92cdf3d0>"
      ]
     },
     "execution_count": 4,
     "metadata": {},
     "output_type": "execute_result"
    },
    {
     "data": {
      "image/png": "[encoded data removed]",
      "text/plain": [
       "<Figure size 432x288 with 1 Axes>"
      ]
     },
     "metadata": {
      "needs_background": "light"
     },
     "output_type": "display_data"
    }
   ],
   "source": [
    "plt.imshow(imread('spectrograms/5_jackson_35.png'))"
   ]
  },
  {
   "cell_type": "code",
   "execution_count": 50,
   "metadata": {},
   "outputs": [],
   "source": [
    "pixels = []\n",
    "for i in range(df.shape[0]):\n",
    "    pixels.append(imread(DATA_PATH+df['image name'][i]).ravel())\n",
    "df['pixels'] = pixels"
   ]
  },
  {
   "cell_type": "code",
   "execution_count": 52,
   "metadata": {},
   "outputs": [
    {
     "data": {
      "text/plain": [
       "count                                                  1500\n",
       "unique                                                 1500\n",
       "top       [148, 148, 148, 145, 145, 145, 135, 135, 135, ...\n",
       "freq                                                      1\n",
       "Name: pixels, dtype: object"
      ]
     },
     "execution_count": 52,
     "metadata": {},
     "output_type": "execute_result"
    }
   ],
   "source": [
    "df['pixels'].describe().T"
   ]
  },
  {
   "cell_type": "code",
   "execution_count": 58,
   "metadata": {},
   "outputs": [
    {
     "data": {
      "text/plain": [
       "<matplotlib.axes._subplots.AxesSubplot at 0x7fed0c3bd1d0>"
      ]
     },
     "execution_count": 58,
     "metadata": {},
     "output_type": "execute_result"
    },
    {
     "data": {
      "image/png": "[encoded data removed]",
      "text/plain": [
       "<Figure size 432x288 with 1 Axes>"
      ]
     },
     "metadata": {
      "needs_background": "light"
     },
     "output_type": "display_data"
    }
   ],
   "source": [
    "df['pixels'].hist()"
   ]
  },
  {
   "cell_type": "markdown",
   "metadata": {},
   "source": [
    "# Pre Processing"
   ]
  },
  {
   "cell_type": "code",
   "execution_count": 5,
   "metadata": {},
   "outputs": [
    {
     "name": "stdout",
     "output_type": "stream",
     "text": [
      "Found 1125 validated image filenames belonging to 10 classes.\n",
      "Found 375 validated image filenames belonging to 10 classes.\n"
     ]
    }
   ],
   "source": [
    "im_gen = ImageDataGenerator(rescale=1./255.,validation_split=0.25,)\n",
    "train_data = im_gen.flow_from_dataframe(df,directory=DATA_PATH,x_col='image name', y_col='label',\n",
    "                                        target_size=(64,64),seed=SEED,subset='training',\n",
    "                                        batch_size=BATCH_SIZE)\n",
    "val_data = im_gen.flow_from_dataframe(df,directory=DATA_PATH,x_col='image name', y_col='label',\n",
    "                                        target_size=(64,64),seed=SEED,subset='validation',\n",
    "                                      batch_size=BATCH_SIZE)"
   ]
  },
  {
   "cell_type": "markdown",
   "metadata": {},
   "source": [
    "# Model"
   ]
  },
  {
   "cell_type": "code",
   "execution_count": 6,
   "metadata": {},
   "outputs": [
    {
     "name": "stdout",
     "output_type": "stream",
     "text": [
      "WARNING:tensorflow:From /home/deshwal/anaconda3/lib/python3.7/site-packages/keras/backend/tensorflow_backend.py:517: The name tf.placeholder is deprecated. Please use tf.compat.v1.placeholder instead.\n",
      "\n",
      "WARNING:tensorflow:From /home/deshwal/anaconda3/lib/python3.7/site-packages/keras/backend/tensorflow_backend.py:4138: The name tf.random_uniform is deprecated. Please use tf.random.uniform instead.\n",
      "\n",
      "WARNING:tensorflow:From /home/deshwal/anaconda3/lib/python3.7/site-packages/keras/backend/tensorflow_backend.py:3976: The name tf.nn.max_pool is deprecated. Please use tf.nn.max_pool2d instead.\n",
      "\n",
      "WARNING:tensorflow:From /home/deshwal/anaconda3/lib/python3.7/site-packages/keras/backend/tensorflow_backend.py:74: The name tf.get_default_graph is deprecated. Please use tf.compat.v1.get_default_graph instead.\n",
      "\n",
      "WARNING:tensorflow:From /home/deshwal/anaconda3/lib/python3.7/site-packages/keras/optimizers.py:790: The name tf.train.Optimizer is deprecated. Please use tf.compat.v1.train.Optimizer instead.\n",
      "\n",
      "WARNING:tensorflow:From /home/deshwal/anaconda3/lib/python3.7/site-packages/keras/backend/tensorflow_backend.py:3295: The name tf.log is deprecated. Please use tf.math.log instead.\n",
      "\n",
      "_________________________________________________________________\n",
      "Layer (type)                 Output Shape              Param #   \n",
      "=================================================================\n",
      "input (InputLayer)           (None, 64, 64, 3)         0         \n",
      "_________________________________________________________________\n",
      "first_conv (Conv2D)          (None, 64, 64, 32)        896       \n",
      "_________________________________________________________________\n",
      "second_conv (Conv2D)         (None, 64, 64, 64)        18496     \n",
      "_________________________________________________________________\n",
      "first_pool (MaxPooling2D)    (None, 32, 32, 64)        0         \n",
      "_________________________________________________________________\n",
      "third_conv (Conv2D)          (None, 32, 32, 32)        18464     \n",
      "_________________________________________________________________\n",
      "second_pool (MaxPooling2D)   (None, 16, 16, 32)        0         \n",
      "_________________________________________________________________\n",
      "flatten_1 (Flatten)          (None, 8192)              0         \n",
      "_________________________________________________________________\n",
      "dense_1 (Dense)              (None, 128)               1048704   \n",
      "_________________________________________________________________\n",
      "output (Dense)               (None, 10)                1290      \n",
      "=================================================================\n",
      "Total params: 1,087,850\n",
      "Trainable params: 1,087,850\n",
      "Non-trainable params: 0\n",
      "_________________________________________________________________\n"
     ]
    }
   ],
   "source": [
    "input_ = Input(shape=(64,64,3),name='input')\n",
    "layer = Conv2D(32,kernel_size=(3,3),activation='relu',name='first_conv',padding='same')(input_)\n",
    "layer = Conv2D(64,kernel_size=(3,3),activation='relu',name='second_conv', padding='same')(layer)\n",
    "layer = MaxPooling2D(pool_size=(2,2),padding='same',name='first_pool')(layer)\n",
    "layer = Conv2D(32,kernel_size=(3,3),activation='relu',name='third_conv', padding='same')(layer)\n",
    "layer = MaxPooling2D(pool_size=(2,2),padding='same',name='second_pool')(layer)\n",
    "layer = Flatten()(layer)\n",
    "layer = Dense(128,activation='relu',name='dense_1')(layer)\n",
    "output = Dense(10,activation='softmax',name='output')(layer)\n",
    "model = Model(inputs=input_,outputs=output)\n",
    "\n",
    "model.compile(optimizer='adam',loss='categorical_crossentropy',metrics=['accuracy'])\n",
    "\n",
    "plot_model(model,show_shapes=True,to_file='Simple Model.png')\n",
    "\n",
    "model.summary()"
   ]
  },
  {
   "cell_type": "code",
   "execution_count": 7,
   "metadata": {},
   "outputs": [
    {
     "name": "stdout",
     "output_type": "stream",
     "text": [
      "WARNING:tensorflow:From /home/deshwal/anaconda3/lib/python3.7/site-packages/tensorflow_core/python/ops/math_grad.py:1424: where (from tensorflow.python.ops.array_ops) is deprecated and will be removed in a future version.\n",
      "Instructions for updating:\n",
      "Use tf.where in 2.0, which has the same broadcast rule as np.where\n",
      "WARNING:tensorflow:From /home/deshwal/anaconda3/lib/python3.7/site-packages/keras/backend/tensorflow_backend.py:986: The name tf.assign_add is deprecated. Please use tf.compat.v1.assign_add instead.\n",
      "\n",
      "WARNING:tensorflow:From /home/deshwal/anaconda3/lib/python3.7/site-packages/keras/backend/tensorflow_backend.py:973: The name tf.assign is deprecated. Please use tf.compat.v1.assign instead.\n",
      "\n",
      "WARNING:tensorflow:From /home/deshwal/anaconda3/lib/python3.7/site-packages/keras/backend/tensorflow_backend.py:2741: The name tf.Session is deprecated. Please use tf.compat.v1.Session instead.\n",
      "\n",
      "Epoch 1/15\n",
      "WARNING:tensorflow:From /home/deshwal/anaconda3/lib/python3.7/site-packages/keras/backend/tensorflow_backend.py:174: The name tf.get_default_session is deprecated. Please use tf.compat.v1.get_default_session instead.\n",
      "\n",
      "WARNING:tensorflow:From /home/deshwal/anaconda3/lib/python3.7/site-packages/keras/backend/tensorflow_backend.py:181: The name tf.ConfigProto is deprecated. Please use tf.compat.v1.ConfigProto instead.\n",
      "\n",
      "WARNING:tensorflow:From /home/deshwal/anaconda3/lib/python3.7/site-packages/keras/backend/tensorflow_backend.py:190: The name tf.global_variables is deprecated. Please use tf.compat.v1.global_variables instead.\n",
      "\n",
      "WARNING:tensorflow:From /home/deshwal/anaconda3/lib/python3.7/site-packages/keras/backend/tensorflow_backend.py:199: The name tf.is_variable_initialized is deprecated. Please use tf.compat.v1.is_variable_initialized instead.\n",
      "\n",
      "WARNING:tensorflow:From /home/deshwal/anaconda3/lib/python3.7/site-packages/keras/backend/tensorflow_backend.py:206: The name tf.variables_initializer is deprecated. Please use tf.compat.v1.variables_initializer instead.\n",
      "\n",
      "35/35 [==============================] - 24s 699ms/step - loss: 2.3322 - acc: 0.1036 - val_loss: 2.3045 - val_acc: 0.1023\n",
      "Epoch 2/15\n",
      "35/35 [==============================] - 20s 572ms/step - loss: 2.3020 - acc: 0.1179 - val_loss: 2.2937 - val_acc: 0.1193\n",
      "Epoch 3/15\n",
      "35/35 [==============================] - 22s 630ms/step - loss: 2.2810 - acc: 0.1376 - val_loss: 2.2883 - val_acc: 0.0838\n",
      "Epoch 4/15\n",
      "35/35 [==============================] - 22s 641ms/step - loss: 2.1067 - acc: 0.2875 - val_loss: 1.8589 - val_acc: 0.4375\n",
      "Epoch 5/15\n",
      "35/35 [==============================] - 23s 671ms/step - loss: 1.4913 - acc: 0.4742 - val_loss: 1.2544 - val_acc: 0.5449\n",
      "Epoch 6/15\n",
      "35/35 [==============================] - 23s 667ms/step - loss: 1.0615 - acc: 0.6679 - val_loss: 1.0562 - val_acc: 0.5795\n",
      "Epoch 7/15\n",
      "35/35 [==============================] - 24s 677ms/step - loss: 0.6885 - acc: 0.7509 - val_loss: 0.9349 - val_acc: 0.7126\n",
      "Epoch 8/15\n",
      "35/35 [==============================] - 25s 708ms/step - loss: 0.5892 - acc: 0.7982 - val_loss: 0.5774 - val_acc: 0.8239\n",
      "Epoch 9/15\n",
      "35/35 [==============================] - 25s 723ms/step - loss: 0.4274 - acc: 0.8714 - val_loss: 0.6274 - val_acc: 0.8024\n",
      "Epoch 10/15\n",
      "35/35 [==============================] - 24s 682ms/step - loss: 0.4527 - acc: 0.8411 - val_loss: 0.6163 - val_acc: 0.8125\n",
      "Epoch 11/15\n",
      "35/35 [==============================] - 23s 670ms/step - loss: 0.2969 - acc: 0.9160 - val_loss: 0.3743 - val_acc: 0.8743\n",
      "Epoch 12/15\n",
      "35/35 [==============================] - 24s 685ms/step - loss: 0.2395 - acc: 0.9179 - val_loss: 0.3801 - val_acc: 0.8750\n",
      "Epoch 13/15\n",
      "35/35 [==============================] - 24s 678ms/step - loss: 0.2241 - acc: 0.9178 - val_loss: 0.4409 - val_acc: 0.8693\n",
      "Epoch 14/15\n",
      "35/35 [==============================] - 26s 750ms/step - loss: 0.1981 - acc: 0.9357 - val_loss: 0.3224 - val_acc: 0.8982\n",
      "Epoch 15/15\n",
      "35/35 [==============================] - 24s 698ms/step - loss: 0.1437 - acc: 0.9589 - val_loss: 0.4744 - val_acc: 0.8693\n"
     ]
    }
   ],
   "source": [
    "ES = EarlyStopping(patience=4,restore_best_weights=True,min_delta=0.01,verbose=1)\n",
    "# MC = ModelCheckpoint(filepath='model.{epoch:02d}-{val_loss:.2f}.hdf5',save_best_only=True,verbose=1)\n",
    "\n",
    "history1 = model.fit_generator(train_data,validation_data=val_data,epochs=15,\n",
    "                    steps_per_epoch=1125//32,validation_steps=375//32,verbose=1,)#callbacks=[ES],)"
   ]
  },
  {
   "cell_type": "markdown",
   "metadata": {},
   "source": [
    "Model is Producing good results but Overfitting"
   ]
  },
  {
   "cell_type": "markdown",
   "metadata": {},
   "source": [
    "# Leaky Relu"
   ]
  },
  {
   "cell_type": "code",
   "execution_count": 8,
   "metadata": {},
   "outputs": [
    {
     "name": "stderr",
     "output_type": "stream",
     "text": [
      "/home/deshwal/anaconda3/lib/python3.7/site-packages/keras/activations.py:211: UserWarning: Do not pass a layer instance (such as LeakyReLU) as the activation argument of another layer. Instead, advanced activation layers should be used just like any other layer in a model.\n",
      "  identifier=identifier.__class__.__name__))\n"
     ]
    },
    {
     "name": "stdout",
     "output_type": "stream",
     "text": [
      "_________________________________________________________________\n",
      "Layer (type)                 Output Shape              Param #   \n",
      "=================================================================\n",
      "input (InputLayer)           (None, 64, 64, 3)         0         \n",
      "_________________________________________________________________\n",
      "first_conv (Conv2D)          (None, 64, 64, 32)        896       \n",
      "_________________________________________________________________\n",
      "second_conv (Conv2D)         (None, 64, 64, 64)        18496     \n",
      "_________________________________________________________________\n",
      "first_pool (MaxPooling2D)    (None, 32, 32, 64)        0         \n",
      "_________________________________________________________________\n",
      "third_conv (Conv2D)          (None, 32, 32, 32)        18464     \n",
      "_________________________________________________________________\n",
      "second_pool (MaxPooling2D)   (None, 16, 16, 32)        0         \n",
      "_________________________________________________________________\n",
      "flatten_2 (Flatten)          (None, 8192)              0         \n",
      "_________________________________________________________________\n",
      "dense_1 (Dense)              (None, 128)               1048704   \n",
      "_________________________________________________________________\n",
      "output (Dense)               (None, 10)                1290      \n",
      "=================================================================\n",
      "Total params: 1,087,850\n",
      "Trainable params: 1,087,850\n",
      "Non-trainable params: 0\n",
      "_________________________________________________________________\n"
     ]
    }
   ],
   "source": [
    "input_ = Input(shape=(64,64,3),name='input')\n",
    "layer = Conv2D(32,kernel_size=(3,3),activation=LeakyReLU(alpha=0.22),name='first_conv',\n",
    "               padding='same')(input_)\n",
    "layer = Conv2D(64,kernel_size=(3,3),activation=LeakyReLU(alpha=0.10),name='second_conv', \n",
    "               padding='same')(layer)\n",
    "layer = MaxPooling2D(pool_size=(2,2),padding='same',name='first_pool')(layer)\n",
    "layer = Conv2D(32,kernel_size=(3,3),activation='relu',name='third_conv', padding='same')(layer)\n",
    "layer = MaxPooling2D(pool_size=(2,2),padding='same',name='second_pool')(layer)\n",
    "layer = Flatten()(layer)\n",
    "layer = Dense(128,activation=LeakyReLU(alpha=0.17),name='dense_1')(layer)\n",
    "output = Dense(10,activation='softmax',name='output')(layer)\n",
    "\n",
    "model2 = Model(inputs=input_,outputs=output)\n",
    "\n",
    "model2.compile(optimizer='adam',loss='categorical_crossentropy',metrics=['accuracy'])\n",
    "\n",
    "plot_model(model2,show_shapes=True,to_file='model_with_LeakyRelu().png')\n",
    "\n",
    "model2.summary()"
   ]
  },
  {
   "cell_type": "code",
   "execution_count": 9,
   "metadata": {},
   "outputs": [
    {
     "name": "stdout",
     "output_type": "stream",
     "text": [
      "Epoch 1/15\n",
      "35/35 [==============================] - 25s 707ms/step - loss: 2.4661 - acc: 0.1001 - val_loss: 2.3169 - val_acc: 0.0739\n",
      "Epoch 2/15\n",
      "35/35 [==============================] - 24s 682ms/step - loss: 2.3040 - acc: 0.1214 - val_loss: 2.3017 - val_acc: 0.1976\n",
      "Epoch 3/15\n",
      "35/35 [==============================] - 22s 616ms/step - loss: 2.2878 - acc: 0.1593 - val_loss: 2.2488 - val_acc: 0.1023\n",
      "Epoch 4/15\n",
      "35/35 [==============================] - 22s 642ms/step - loss: 2.1358 - acc: 0.2000 - val_loss: 1.9691 - val_acc: 0.3174\n",
      "Epoch 5/15\n",
      "35/35 [==============================] - 22s 642ms/step - loss: 1.5608 - acc: 0.4666 - val_loss: 1.3063 - val_acc: 0.6136\n",
      "Epoch 6/15\n",
      "35/35 [==============================] - 23s 668ms/step - loss: 0.9838 - acc: 0.6679 - val_loss: 1.0493 - val_acc: 0.6287\n",
      "Epoch 7/15\n",
      "35/35 [==============================] - 22s 617ms/step - loss: 0.6301 - acc: 0.7871 - val_loss: 0.6918 - val_acc: 0.7386\n",
      "Epoch 8/15\n",
      "35/35 [==============================] - 23s 666ms/step - loss: 0.4618 - acc: 0.8464 - val_loss: 0.5184 - val_acc: 0.8563\n",
      "Epoch 9/15\n",
      "35/35 [==============================] - 23s 647ms/step - loss: 0.3222 - acc: 0.9125 - val_loss: 0.3579 - val_acc: 0.8807\n",
      "Epoch 10/15\n",
      "35/35 [==============================] - 22s 629ms/step - loss: 0.1973 - acc: 0.9375 - val_loss: 0.6487 - val_acc: 0.8239\n",
      "Epoch 11/15\n",
      "35/35 [==============================] - 23s 658ms/step - loss: 0.2052 - acc: 0.9304 - val_loss: 0.5446 - val_acc: 0.8383\n",
      "Epoch 12/15\n",
      "35/35 [==============================] - 22s 620ms/step - loss: 0.2153 - acc: 0.9229 - val_loss: 0.5533 - val_acc: 0.8523\n",
      "Epoch 13/15\n",
      "35/35 [==============================] - 24s 690ms/step - loss: 0.1720 - acc: 0.9375 - val_loss: 0.3089 - val_acc: 0.9042\n",
      "Epoch 14/15\n",
      "35/35 [==============================] - 24s 693ms/step - loss: 0.0977 - acc: 0.9678 - val_loss: 0.3679 - val_acc: 0.9034\n",
      "Epoch 15/15\n",
      "35/35 [==============================] - 23s 669ms/step - loss: 0.0982 - acc: 0.9696 - val_loss: 0.5563 - val_acc: 0.8802\n"
     ]
    }
   ],
   "source": [
    "ES = EarlyStopping(patience=4,restore_best_weights=True,min_delta=0.01,verbose=1)\n",
    "# MC = ModelCheckpoint(filepath='model.{epoch:02d}-{val_loss:.2f}.hdf5',save_best_only=True,verbose=1)\n",
    "\n",
    "history2 = model2.fit_generator(train_data,validation_data=val_data,epochs=15,\n",
    "                    steps_per_epoch=1125//32,validation_steps=375//32,verbose=1,)#callbacks=[ES],)"
   ]
  },
  {
   "cell_type": "code",
   "execution_count": 40,
   "metadata": {},
   "outputs": [
    {
     "data": {
      "image/png": "[encoded data removed]",
      "text/plain": [
       "<Figure size 432x288 with 1 Axes>"
      ]
     },
     "metadata": {
      "needs_background": "light"
     },
     "output_type": "display_data"
    }
   ],
   "source": [
    "plot_graphs(history1,history2,'Leaky Relu')"
   ]
  },
  {
   "cell_type": "code",
   "execution_count": 45,
   "metadata": {},
   "outputs": [
    {
     "name": "stdout",
     "output_type": "stream",
     "text": [
      "There is a difference of -0.1275369888873038 between the base and Leaky Relu model mean accuracy with a p-value of 0.8994269554328733\n",
      "It means there is no significance difference because of the p-value\n"
     ]
    }
   ],
   "source": [
    "t_test(history1,history2,'Leaky Relu')"
   ]
  },
  {
   "cell_type": "markdown",
   "metadata": {},
   "source": [
    "# Dropout"
   ]
  },
  {
   "cell_type": "code",
   "execution_count": 10,
   "metadata": {},
   "outputs": [
    {
     "name": "stdout",
     "output_type": "stream",
     "text": [
      "WARNING:tensorflow:From /home/deshwal/anaconda3/lib/python3.7/site-packages/keras/backend/tensorflow_backend.py:133: The name tf.placeholder_with_default is deprecated. Please use tf.compat.v1.placeholder_with_default instead.\n",
      "\n",
      "WARNING:tensorflow:From /home/deshwal/anaconda3/lib/python3.7/site-packages/keras/backend/tensorflow_backend.py:3445: calling dropout (from tensorflow.python.ops.nn_ops) with keep_prob is deprecated and will be removed in a future version.\n",
      "Instructions for updating:\n",
      "Please use `rate` instead of `keep_prob`. Rate should be set to `rate = 1 - keep_prob`.\n",
      "_________________________________________________________________\n",
      "Layer (type)                 Output Shape              Param #   \n",
      "=================================================================\n",
      "input (InputLayer)           (None, 64, 64, 3)         0         \n",
      "_________________________________________________________________\n",
      "first_conv (Conv2D)          (None, 64, 64, 32)        896       \n",
      "_________________________________________________________________\n",
      "second_conv (Conv2D)         (None, 64, 64, 64)        18496     \n",
      "_________________________________________________________________\n",
      "first_pool (MaxPooling2D)    (None, 32, 32, 64)        0         \n",
      "_________________________________________________________________\n",
      "third_conv (Conv2D)          (None, 32, 32, 32)        18464     \n",
      "_________________________________________________________________\n",
      "second_pool (MaxPooling2D)   (None, 11, 11, 32)        0         \n",
      "_________________________________________________________________\n",
      "flatten_3 (Flatten)          (None, 3872)              0         \n",
      "_________________________________________________________________\n",
      "dense_1 (Dense)              (None, 128)               495744    \n",
      "_________________________________________________________________\n",
      "dropout_1 (Dropout)          (None, 128)               0         \n",
      "_________________________________________________________________\n",
      "output (Dense)               (None, 10)                1290      \n",
      "=================================================================\n",
      "Total params: 534,890\n",
      "Trainable params: 534,890\n",
      "Non-trainable params: 0\n",
      "_________________________________________________________________\n"
     ]
    }
   ],
   "source": [
    "input_ = Input(shape=(64,64,3),name='input')\n",
    "layer = Conv2D(32,kernel_size=(3,3),activation='relu',name='first_conv',padding='same')(input_)\n",
    "layer = Conv2D(64,kernel_size=(3,3),activation='relu',name='second_conv', padding='same')(layer)\n",
    "layer = MaxPooling2D(pool_size=(2,2),padding='same',name='first_pool')(layer)\n",
    "layer = Conv2D(32,kernel_size=(3,3),activation='relu',name='third_conv', padding='same')(layer)\n",
    "layer = MaxPooling2D(pool_size=(3,3),padding='same',name='second_pool')(layer)\n",
    "layer = Flatten()(layer)\n",
    "layer = Dense(128,activation='relu',name='dense_1')(layer)\n",
    "layer = Dropout(0.50)(layer)\n",
    "output = Dense(10,activation='softmax',name='output')(layer)\n",
    "\n",
    "model3 = Model(inputs=input_,outputs=output)\n",
    "\n",
    "model3.compile(optimizer='adam',loss='categorical_crossentropy',metrics=['accuracy'])\n",
    "\n",
    "plot_model(model3,show_shapes=True,to_file='model_with_Drouout.png')\n",
    "\n",
    "model3.summary()"
   ]
  },
  {
   "cell_type": "code",
   "execution_count": 11,
   "metadata": {},
   "outputs": [
    {
     "name": "stdout",
     "output_type": "stream",
     "text": [
      "Epoch 1/15\n",
      "35/35 [==============================] - 24s 689ms/step - loss: 2.3209 - acc: 0.0982 - val_loss: 2.2993 - val_acc: 0.1317\n",
      "Epoch 2/15\n",
      "35/35 [==============================] - 22s 633ms/step - loss: 2.3043 - acc: 0.0929 - val_loss: 2.3017 - val_acc: 0.0511\n",
      "Epoch 3/15\n",
      "35/35 [==============================] - 21s 610ms/step - loss: 2.3001 - acc: 0.1071 - val_loss: 2.2852 - val_acc: 0.1617\n",
      "Epoch 4/15\n",
      "35/35 [==============================] - 24s 692ms/step - loss: 2.2885 - acc: 0.1307 - val_loss: 2.2458 - val_acc: 0.2216\n",
      "Epoch 5/15\n",
      "35/35 [==============================] - 21s 611ms/step - loss: 2.1103 - acc: 0.2286 - val_loss: 1.7232 - val_acc: 0.4659\n",
      "Epoch 6/15\n",
      "35/35 [==============================] - 22s 626ms/step - loss: 1.8823 - acc: 0.3418 - val_loss: 1.5886 - val_acc: 0.5210\n",
      "Epoch 7/15\n",
      "35/35 [==============================] - 22s 625ms/step - loss: 1.6078 - acc: 0.4107 - val_loss: 1.1351 - val_acc: 0.6364\n",
      "Epoch 8/15\n",
      "35/35 [==============================] - 22s 621ms/step - loss: 1.3219 - acc: 0.5156 - val_loss: 0.9446 - val_acc: 0.6108\n",
      "Epoch 9/15\n",
      "35/35 [==============================] - 22s 643ms/step - loss: 1.1264 - acc: 0.5839 - val_loss: 0.7461 - val_acc: 0.8182\n",
      "Epoch 10/15\n",
      "35/35 [==============================] - 21s 613ms/step - loss: 0.9027 - acc: 0.6552 - val_loss: 0.6879 - val_acc: 0.7904\n",
      "Epoch 11/15\n",
      "35/35 [==============================] - 21s 608ms/step - loss: 0.7814 - acc: 0.7089 - val_loss: 0.5715 - val_acc: 0.8068\n",
      "Epoch 12/15\n",
      "35/35 [==============================] - 22s 620ms/step - loss: 0.8119 - acc: 0.7192 - val_loss: 0.5164 - val_acc: 0.8144\n",
      "Epoch 13/15\n",
      "35/35 [==============================] - 22s 628ms/step - loss: 0.6555 - acc: 0.7625 - val_loss: 0.4388 - val_acc: 0.8239\n",
      "Epoch 14/15\n",
      "35/35 [==============================] - 22s 615ms/step - loss: 0.6448 - acc: 0.7728 - val_loss: 0.4372 - val_acc: 0.8503\n",
      "Epoch 15/15\n",
      "35/35 [==============================] - 23s 646ms/step - loss: 0.5692 - acc: 0.8036 - val_loss: 0.3702 - val_acc: 0.8864\n"
     ]
    }
   ],
   "source": [
    "#ES = EarlyStopping(patience=4,restore_best_weights=True,min_delta=0.01,verbose=1)\n",
    "# MC = ModelCheckpoint(filepath='model.{epoch:02d}-{val_loss:.2f}.hdf5',save_best_only=True,verbose=1)\n",
    "\n",
    "history3 = model3.fit_generator(train_data,validation_data=val_data,epochs=15,\n",
    "                    steps_per_epoch=1125//32,validation_steps=375//32,verbose=1,)#callbacks=[ES],)"
   ]
  },
  {
   "cell_type": "code",
   "execution_count": 25,
   "metadata": {},
   "outputs": [
    {
     "data": {
      "image/png": "[encoded data removed]",
      "text/plain": [
       "<Figure size 432x288 with 1 Axes>"
      ]
     },
     "metadata": {
      "needs_background": "light"
     },
     "output_type": "display_data"
    }
   ],
   "source": [
    "plot_graphs(history1,history3,'Dropout')"
   ]
  },
  {
   "cell_type": "code",
   "execution_count": 46,
   "metadata": {},
   "outputs": [
    {
     "name": "stdout",
     "output_type": "stream",
     "text": [
      "There is a difference of 1.6757512357418172 between the base and Dropout model mean accuracy with a p-value of 0.10492029975108652\n",
      "It means there is no significance difference because of the p-value\n"
     ]
    }
   ],
   "source": [
    "t_test(history1,history3,'Dropout')"
   ]
  },
  {
   "cell_type": "markdown",
   "metadata": {},
   "source": [
    "# Batch Normalization"
   ]
  },
  {
   "cell_type": "code",
   "execution_count": 12,
   "metadata": {},
   "outputs": [
    {
     "name": "stdout",
     "output_type": "stream",
     "text": [
      "WARNING:tensorflow:From /home/deshwal/anaconda3/lib/python3.7/site-packages/keras/backend/tensorflow_backend.py:1834: The name tf.nn.fused_batch_norm is deprecated. Please use tf.compat.v1.nn.fused_batch_norm instead.\n",
      "\n",
      "_________________________________________________________________\n",
      "Layer (type)                 Output Shape              Param #   \n",
      "=================================================================\n",
      "input (InputLayer)           (None, 64, 64, 3)         0         \n",
      "_________________________________________________________________\n",
      "first_conv (Conv2D)          (None, 64, 64, 32)        896       \n",
      "_________________________________________________________________\n",
      "second_conv (Conv2D)         (None, 64, 64, 64)        18496     \n",
      "_________________________________________________________________\n",
      "batch_normalization_1 (Batch (None, 64, 64, 64)        256       \n",
      "_________________________________________________________________\n",
      "first_pool (MaxPooling2D)    (None, 32, 32, 64)        0         \n",
      "_________________________________________________________________\n",
      "third_conv (Conv2D)          (None, 32, 32, 32)        18464     \n",
      "_________________________________________________________________\n",
      "batch_normalization_2 (Batch (None, 32, 32, 32)        128       \n",
      "_________________________________________________________________\n",
      "second_pool (MaxPooling2D)   (None, 16, 16, 32)        0         \n",
      "_________________________________________________________________\n",
      "flatten_4 (Flatten)          (None, 8192)              0         \n",
      "_________________________________________________________________\n",
      "dense_1 (Dense)              (None, 128)               1048704   \n",
      "_________________________________________________________________\n",
      "output (Dense)               (None, 10)                1290      \n",
      "=================================================================\n",
      "Total params: 1,088,234\n",
      "Trainable params: 1,088,042\n",
      "Non-trainable params: 192\n",
      "_________________________________________________________________\n"
     ]
    }
   ],
   "source": [
    "input_ = Input(shape=(64,64,3),name='input')\n",
    "layer = Conv2D(32,kernel_size=(3,3),activation='relu',name='first_conv',padding='same')(input_)\n",
    "layer = Conv2D(64,kernel_size=(3,3),activation='relu',name='second_conv', padding='same')(layer)\n",
    "layer = BatchNormalization()(layer)\n",
    "layer = MaxPooling2D(pool_size=(2,2),padding='same',name='first_pool')(layer)\n",
    "layer = Conv2D(32,kernel_size=(3,3),activation='relu',name='third_conv', padding='same')(layer)\n",
    "layer = BatchNormalization()(layer)\n",
    "layer = MaxPooling2D(pool_size=(2,2),padding='same',name='second_pool')(layer)\n",
    "layer = Flatten()(layer)\n",
    "layer = Dense(128,activation='relu',name='dense_1')(layer)\n",
    "output = Dense(10,activation='softmax',name='output')(layer)\n",
    "\n",
    "model4 = Model(inputs=input_,outputs=output)\n",
    "\n",
    "model4.compile(optimizer='adam',loss='categorical_crossentropy',metrics=['accuracy'])\n",
    "\n",
    "plot_model(model4,show_shapes=True, to_file='Batch Normalized.png')\n",
    "\n",
    "model4.summary()"
   ]
  },
  {
   "cell_type": "code",
   "execution_count": 13,
   "metadata": {},
   "outputs": [
    {
     "name": "stdout",
     "output_type": "stream",
     "text": [
      "Epoch 1/15\n",
      "35/35 [==============================] - 31s 886ms/step - loss: 5.0274 - acc: 0.2501 - val_loss: 3.4204 - val_acc: 0.3011\n",
      "Epoch 2/15\n",
      "35/35 [==============================] - 29s 821ms/step - loss: 1.4037 - acc: 0.4857 - val_loss: 1.3639 - val_acc: 0.4943\n",
      "Epoch 3/15\n",
      "35/35 [==============================] - 30s 852ms/step - loss: 1.0702 - acc: 0.6120 - val_loss: 1.1284 - val_acc: 0.6228\n",
      "Epoch 4/15\n",
      "35/35 [==============================] - 28s 810ms/step - loss: 0.7443 - acc: 0.7268 - val_loss: 1.2465 - val_acc: 0.6307\n",
      "Epoch 5/15\n",
      "35/35 [==============================] - 28s 786ms/step - loss: 0.5691 - acc: 0.7726 - val_loss: 1.1157 - val_acc: 0.6707\n",
      "Epoch 6/15\n",
      "35/35 [==============================] - 28s 801ms/step - loss: 0.3839 - acc: 0.8696 - val_loss: 3.2622 - val_acc: 0.5227\n",
      "Epoch 7/15\n",
      "35/35 [==============================] - 27s 764ms/step - loss: 0.3562 - acc: 0.8821 - val_loss: 2.6056 - val_acc: 0.5868\n",
      "Epoch 8/15\n",
      "35/35 [==============================] - 29s 820ms/step - loss: 0.1900 - acc: 0.9446 - val_loss: 0.4505 - val_acc: 0.8693\n",
      "Epoch 9/15\n",
      "35/35 [==============================] - 28s 795ms/step - loss: 0.1913 - acc: 0.9410 - val_loss: 3.0461 - val_acc: 0.5150\n",
      "Epoch 10/15\n",
      "35/35 [==============================] - 28s 809ms/step - loss: 0.1014 - acc: 0.9750 - val_loss: 0.5919 - val_acc: 0.8011\n",
      "Epoch 11/15\n",
      "35/35 [==============================] - 27s 781ms/step - loss: 0.0558 - acc: 0.9875 - val_loss: 0.3413 - val_acc: 0.8802\n",
      "Epoch 12/15\n",
      "35/35 [==============================] - 29s 829ms/step - loss: 0.0255 - acc: 0.9982 - val_loss: 0.3935 - val_acc: 0.8807\n",
      "Epoch 13/15\n",
      "35/35 [==============================] - 29s 830ms/step - loss: 0.0601 - acc: 0.9783 - val_loss: 0.6591 - val_acc: 0.8409\n",
      "Epoch 14/15\n",
      "35/35 [==============================] - 27s 770ms/step - loss: 0.0800 - acc: 0.9786 - val_loss: 0.8141 - val_acc: 0.7665\n",
      "Epoch 15/15\n",
      "35/35 [==============================] - 29s 818ms/step - loss: 0.0496 - acc: 0.9893 - val_loss: 0.5380 - val_acc: 0.8864\n"
     ]
    }
   ],
   "source": [
    "ES = EarlyStopping(patience=4,restore_best_weights=True,min_delta=0.01,verbose=1)\n",
    "# MC = ModelCheckpoint(filepath='model.{epoch:02d}-{val_loss:.2f}.hdf5',save_best_only=True,verbose=1)\n",
    "\n",
    "history4 = model4.fit_generator(train_data,validation_data=val_data,epochs=15,\n",
    "                    steps_per_epoch=1125//32,validation_steps=375//32,verbose=1)#,callbacks=[ES],)"
   ]
  },
  {
   "cell_type": "code",
   "execution_count": 26,
   "metadata": {},
   "outputs": [
    {
     "data": {
      "image/png": "[encoded data removed]",
      "text/plain": [
       "<Figure size 432x288 with 1 Axes>"
      ]
     },
     "metadata": {
      "needs_background": "light"
     },
     "output_type": "display_data"
    }
   ],
   "source": [
    "plot_graphs(history1,history4,'BatchNorm')"
   ]
  },
  {
   "cell_type": "code",
   "execution_count": 48,
   "metadata": {},
   "outputs": [
    {
     "name": "stdout",
     "output_type": "stream",
     "text": [
      "There is a difference of -1.758851160076341 between the base and Batch Normalization model mean accuracy with a p-value of 0.08952873044345097\n",
      "It means there is no significance difference because of the p-value\n"
     ]
    }
   ],
   "source": [
    "t_test(history1,history4,'Batch Normalization')"
   ]
  },
  {
   "cell_type": "markdown",
   "metadata": {},
   "source": [
    "# Final Model\n",
    "With Relu + Leaky Relu + Dropout + Batch Normalization"
   ]
  },
  {
   "cell_type": "code",
   "execution_count": 14,
   "metadata": {},
   "outputs": [
    {
     "name": "stdout",
     "output_type": "stream",
     "text": [
      "_________________________________________________________________\n",
      "Layer (type)                 Output Shape              Param #   \n",
      "=================================================================\n",
      "input (InputLayer)           (None, 64, 64, 3)         0         \n",
      "_________________________________________________________________\n",
      "first_conv (Conv2D)          (None, 64, 64, 64)        1792      \n",
      "_________________________________________________________________\n",
      "second_conv (Conv2D)         (None, 64, 64, 64)        36928     \n",
      "_________________________________________________________________\n",
      "leaky_re_lu_4 (LeakyReLU)    (None, 64, 64, 64)        0         \n",
      "_________________________________________________________________\n",
      "batch_normalization_3 (Batch (None, 64, 64, 64)        256       \n",
      "_________________________________________________________________\n",
      "first_pool (MaxPooling2D)    (None, 32, 32, 64)        0         \n",
      "_________________________________________________________________\n",
      "third_conv (Conv2D)          (None, 32, 32, 32)        18464     \n",
      "_________________________________________________________________\n",
      "second_pool (MaxPooling2D)   (None, 11, 11, 32)        0         \n",
      "_________________________________________________________________\n",
      "flatten_5 (Flatten)          (None, 3872)              0         \n",
      "_________________________________________________________________\n",
      "dense_1 (Dense)              (None, 128)               495744    \n",
      "_________________________________________________________________\n",
      "leaky_re_lu_5 (LeakyReLU)    (None, 128)               0         \n",
      "_________________________________________________________________\n",
      "dropout_2 (Dropout)          (None, 128)               0         \n",
      "_________________________________________________________________\n",
      "output (Dense)               (None, 10)                1290      \n",
      "=================================================================\n",
      "Total params: 554,474\n",
      "Trainable params: 554,346\n",
      "Non-trainable params: 128\n",
      "_________________________________________________________________\n"
     ]
    }
   ],
   "source": [
    "input_ = Input(shape=(64,64,3),name='input')\n",
    "layer = Conv2D(64,kernel_size=(3,3),activation='relu',name='first_conv',padding='same')(input_)\n",
    "layer = Conv2D(64,kernel_size=(3,3),name='second_conv',padding='same')(layer)\n",
    "layer = LeakyReLU(0.17)(layer)\n",
    "layer = BatchNormalization()(layer)\n",
    "layer = MaxPooling2D(pool_size=(2,2),padding='same',name='first_pool')(layer)\n",
    "layer = Conv2D(32,kernel_size=(3,3),activation='relu',name='third_conv', padding='same')(layer)\n",
    "layer = MaxPooling2D(pool_size=(3,3),padding='same',name='second_pool')(layer)\n",
    "layer = Flatten()(layer)\n",
    "layer = Dense(128,name='dense_1')(layer)\n",
    "layer = LeakyReLU(0.10)(layer)\n",
    "layer = Dropout(0.25)(layer)\n",
    "output = Dense(10,activation='softmax',name='output')(layer)\n",
    "\n",
    "model5 = Model(inputs=input_,outputs=output)\n",
    "\n",
    "model5.compile(optimizer='adam',loss='categorical_crossentropy',metrics=['accuracy'])\n",
    "\n",
    "plot_model(model5,show_shapes=True,to_file='final_model.png')\n",
    "\n",
    "model5.summary()"
   ]
  },
  {
   "cell_type": "code",
   "execution_count": 15,
   "metadata": {},
   "outputs": [
    {
     "name": "stdout",
     "output_type": "stream",
     "text": [
      "Epoch 1/15\n",
      "35/35 [==============================] - 42s 1s/step - loss: 2.3326 - acc: 0.2268 - val_loss: 2.1739 - val_acc: 0.1648\n",
      "Epoch 2/15\n",
      "35/35 [==============================] - 37s 1s/step - loss: 1.4613 - acc: 0.5046 - val_loss: 2.0962 - val_acc: 0.2455\n",
      "Epoch 3/15\n",
      "35/35 [==============================] - 39s 1s/step - loss: 0.9442 - acc: 0.6768 - val_loss: 1.1935 - val_acc: 0.6477\n",
      "Epoch 4/15\n",
      "35/35 [==============================] - 38s 1s/step - loss: 0.6668 - acc: 0.7762 - val_loss: 1.2668 - val_acc: 0.5808\n",
      "Epoch 5/15\n",
      "35/35 [==============================] - 38s 1s/step - loss: 0.4323 - acc: 0.8411 - val_loss: 0.5422 - val_acc: 0.7841\n",
      "Epoch 6/15\n",
      "35/35 [==============================] - 38s 1s/step - loss: 0.4357 - acc: 0.8463 - val_loss: 0.3723 - val_acc: 0.8623\n",
      "Epoch 7/15\n",
      "35/35 [==============================] - 39s 1s/step - loss: 0.2657 - acc: 0.9143 - val_loss: 0.6759 - val_acc: 0.8125\n",
      "Epoch 8/15\n",
      "35/35 [==============================] - 37s 1s/step - loss: 0.2303 - acc: 0.9357 - val_loss: 0.4925 - val_acc: 0.8443\n",
      "Epoch 9/15\n",
      "35/35 [==============================] - 40s 1s/step - loss: 0.1562 - acc: 0.9429 - val_loss: 0.6797 - val_acc: 0.7727\n",
      "Epoch 10/15\n",
      "35/35 [==============================] - 36s 1s/step - loss: 0.2080 - acc: 0.9357 - val_loss: 0.5390 - val_acc: 0.8182\n",
      "Epoch 11/15\n",
      "35/35 [==============================] - 37s 1s/step - loss: 0.1151 - acc: 0.9607 - val_loss: 0.9020 - val_acc: 0.7425\n",
      "Epoch 12/15\n",
      "35/35 [==============================] - 41s 1s/step - loss: 0.1062 - acc: 0.9571 - val_loss: 0.3358 - val_acc: 0.9034\n",
      "Epoch 13/15\n",
      "35/35 [==============================] - 39s 1s/step - loss: 0.0843 - acc: 0.9714 - val_loss: 0.3635 - val_acc: 0.8802\n",
      "Epoch 14/15\n",
      "35/35 [==============================] - 38s 1s/step - loss: 0.1477 - acc: 0.9518 - val_loss: 0.4007 - val_acc: 0.8466\n",
      "Epoch 15/15\n",
      "35/35 [==============================] - 40s 1s/step - loss: 0.0903 - acc: 0.9679 - val_loss: 0.5977 - val_acc: 0.8323\n"
     ]
    }
   ],
   "source": [
    "ES = EarlyStopping(patience=3,restore_best_weights=True,min_delta=0.01,verbose=1)\n",
    "MC = ModelCheckpoint(filepath='model_weight/model.{epoch:02d}-{val_loss:.2f}.hdf5',save_best_only=True,verbose=1)\n",
    "\n",
    "history5 = model5.fit_generator(train_data,validation_data=val_data,epochs=15,\n",
    "                    steps_per_epoch=1125//32,validation_steps=375//32,verbose=1)#,callbacks=[ES,MC],)"
   ]
  },
  {
   "cell_type": "code",
   "execution_count": 27,
   "metadata": {},
   "outputs": [
    {
     "data": {
      "image/png": "[encoded data removed]",
      "text/plain": [
       "<Figure size 432x288 with 1 Axes>"
      ]
     },
     "metadata": {
      "needs_background": "light"
     },
     "output_type": "display_data"
    }
   ],
   "source": [
    "plot_graphs(history1,history5,'Hybrid')"
   ]
  },
  {
   "cell_type": "code",
   "execution_count": 49,
   "metadata": {},
   "outputs": [
    {
     "name": "stdout",
     "output_type": "stream",
     "text": [
      "There is a difference of -1.78845276960208 between the base and Hybrid model mean accuracy with a p-value of 0.08452953016330868\n",
      "It means there is no significance difference because of the p-value\n"
     ]
    }
   ],
   "source": [
    "t_test(history1,history5,'Hybrid')"
   ]
  }
 ],
 "metadata": {
  "kernelspec": {
   "display_name": "Python 3",
   "language": "python",
   "name": "python3"
  },
  "language_info": {
   "codemirror_mode": {
    "name": "ipython",
    "version": 3
   },
   "file_extension": ".py",
   "mimetype": "text/x-python",
   "name": "python",
   "nbconvert_exporter": "python",
   "pygments_lexer": "ipython3",
   "version": "3.7.4"
  }
 },
 "nbformat": 4,
 "nbformat_minor": 4
}
